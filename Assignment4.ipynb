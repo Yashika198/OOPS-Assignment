{
  "nbformat": 4,
  "nbformat_minor": 0,
  "metadata": {
    "colab": {
      "provenance": []
    },
    "kernelspec": {
      "name": "python3",
      "display_name": "Python 3"
    },
    "language_info": {
      "name": "python"
    }
  },
  "cells": [
    {
      "cell_type": "markdown",
      "source": [
        "1. What is Object-Oriented programming(OOP)?\n",
        "-> Object-Oriented Programming (OOP) in Python is a programming paradigm based on the concept of \"objects\", which can contain data (attributes) and code (methods). OOP helps structure code in a more organized and reusable way.OOPs is a way of organizing code that uses objects and classes to represent real-world entities and their behavior.\n",
        "Example:\n",
        "class Dog:\n",
        "    def __init__(self, name):\n",
        "        self.name = name\n",
        "\n",
        "    def bark(self):\n",
        "        print(f\"{self.name} says woof!\")\n",
        "\n",
        "my_dog = Dog(\"Buddy\")\n",
        "my_dog.bark()\n",
        "\n",
        "2. What is a class in OOP?\n",
        "-> A class in OOP is a blueprint or template for creating objects. It defines attributes (data) and methods (functions) that the objects created from the class will have.\n",
        "Example:\n",
        "class Person:\n",
        "    def __init__(self, name, age):  \n",
        "        self.name = name            \n",
        "        self.age = age\n",
        "\n",
        "    def greet(self):                \n",
        "        print(f\"Hello, my name is {self.name} and I am {self.age} years old.\")\n",
        "person1 = Person(\"Alice\", 25)  \n",
        "person1.greet()  \n",
        "\n",
        "3. What is an object in OOP?\n",
        "-> An object is a real-world instance of a class. It represents a specific example of a class, with actual values assigned to its attributes.\n",
        "If a class is a blueprint, then an object is the actual thing built from that blueprint.\n",
        "Class → Plan of a Car\n",
        "Object → Actual Car you can drive\n",
        "Example:\n",
        "class Dog:\n",
        "    def __init__(self, name):\n",
        "        self.name = name\n",
        "\n",
        "    def bark(self):\n",
        "        print(f\"{self.name} says Woof!\")\n",
        "my_dog = Dog(\"Buddy\")  # my_dog is an object\n",
        "my_dog.bark()          # Output: Buddy says Woof!\n",
        "\n",
        "4. What is the difference between abstraction and encapsulation?\n",
        "-> a. Abstraction\n",
        "Definition: Hides complex internal logic and shows only the essential features of an object.\n",
        "Purpose: To reduce complexity by focusing on what an object does instead of how it does it.\n",
        "Example in Real Life:\n",
        "You can drive a car using the steering wheel and pedals without knowing how the engine or brakes work internally.\n",
        "Example:\n",
        "from abc import ABC, abstractmethod\n",
        "class Animal(ABC):\n",
        "    @abstractmethod\n",
        "    def sound(self):  \n",
        "        pass\n",
        "class Dog(Animal):\n",
        "    def sound(self):\n",
        "        return \"Bark\"\n",
        "b. Encapsulation\n",
        "Definition: Hides the internal state of an object by restricting access to its attributes and methods.\n",
        "Purpose: To protect the internal data and prevent unauthorized access or modification.\n",
        "Example in Real Life:\n",
        "An ATM hides your bank balance logic; you interact using buttons and screen, but you can't directly access the internal database.\n",
        "Example:\n",
        "class BankAccount:\n",
        "    def __init__(self, balance):\n",
        "        self.__balance = balance  # private attribute\n",
        "\n",
        "    def get_balance(self):\n",
        "        return self.__balance\n",
        "\n",
        "    def deposit(self, amount):\n",
        "        if amount > 0:\n",
        "            self.__balance += amount\n",
        "\n",
        "5. What are dunder methods in Python?\n",
        "-> Dunder methods (short for \"double underscore methods\") are special methods in Python that have names starting and ending with double underscores — like __init__, __str__, __add__, etc.\n",
        "They are also known as:\n",
        "Magic methods\n",
        "Special methods\n",
        "Purpose of Dunder Methods:\n",
        "Define how objects behave with built-in functions\n",
        "Customize operator overloading\n",
        "Control object creation, representation, comparison, etc.\n",
        "Example:\n",
        "class Book:\n",
        "    def __init__(self, title):\n",
        "        self.title = title\n",
        "\n",
        "    def __str__(self):\n",
        "        return f\"Book: {self.title}\"\n",
        "\n",
        "    def __len__(self):\n",
        "        return len(self.title)\n",
        "\n",
        "book = Book(\"Python Basics\")\n",
        "print(book)         \n",
        "print(len(book))   "
      ],
      "metadata": {
        "id": "9GmAkKfHwx5q"
      }
    },
    {
      "cell_type": "markdown",
      "source": [
        "6. Explain the concept of inheritance in OOP.\n",
        "-> Inheritance is a fundamental concept in object-oriented programming (OOP), where a class—known as a subclass (or derived class)—inherits properties and behaviors from another class—the superclass (or base class). This relationship defines an “is‑a” hierarchy, enabling more specific classes to reuse and extend general ones.\n",
        "Example:\n",
        "class Parent:\n",
        "    def greet(self):\n",
        "        print(\"Hello from Parent\")\n",
        "\n",
        "class Child(Parent):\n",
        "    def greet(self):\n",
        "        print(\"Hello from Child\")\n",
        "\n",
        "c = Child()\n",
        "c.greet()  # \"Hello from Child\"\n",
        "\n",
        "7. What is polymorphism in OOP?\n",
        "-> The term comes from Greek: poly (“many”) + morph (“forms”)—meaning “many forms.” In OOP, this refers to the ability of different objects to respond differently to the same method or message, depending on their type.\n",
        "Example:\n",
        "class Shape:\n",
        "    def area(self):\n",
        "        raise NotImplementedError\n",
        "\n",
        "class Circle(Shape):\n",
        "    def __init__(self, radius):\n",
        "        self.radius = radius\n",
        "    def area(self):\n",
        "        return 3.1416 * self.radius * self.radius\n",
        "\n",
        "class Square(Shape):\n",
        "    def __init__(self, length):\n",
        "        self.length = length\n",
        "    def area(self):\n",
        "        return self.length ** 2\n",
        "\n",
        "def print_area(shape: Shape):\n",
        "    print(f\"Area is {shape.area()}\")\n",
        "\n",
        "print_area(Circle(5))  # Area is 78.54\n",
        "print_area(Square(4))  # Area is 16\n",
        "\n",
        "8. How is encapsulation achieved in Python?\n",
        "->Encapsulation in Python is the OOP principle that bundles data (attributes) and the methods that operate on that data into a class, while restricting access to some of a class’s components to prevent improper use or modification. It’s a key part of information hiding and helps maintain a clean and stable interface.\n",
        "a. Naming Conventions: Public, Protected, Private\n",
        "Because Python lacks formal access modifiers (like public, private, protected), it relies on naming conventions:\n",
        "\n",
        "Public: No underscore prefix. Accessible from anywhere.\n",
        "Protected (_name): Indicates internal use—accessible from subclasses but discouraged from outside code\n",
        "Private (__name): Triggers name mangling, where Python internally renames it (e.g. _ClassName__name) to make accidental external access more difficult—but not impossible.\n",
        "b. Name Mangling for “Private” Members\n",
        "Members with double underscores are automatically renamed internally to include the class name.\n",
        "class BankAccount:\n",
        "    def __init__(self):\n",
        "        self.balance = 0          # Public\n",
        "        self._fee = 10            # Protected: internal use only\n",
        "        self.__secret_code = 1234 # Private\n",
        "\n",
        "c. Controlled Access with Getters, Setters, and @property\n",
        "Python encourages properties to enforce validation or transformation logic while keeping attribute access syntax clean.\n",
        "\n",
        "9. What is a constructor in python?\n",
        "-> a. __new__() — The Actual Constructor\n",
        "This special method is responsible for allocating and creating a new instance of a class.\n",
        "b. __init__() — The Initializer\n",
        "__init__() is automatically called right after __new__(). It’s responsible for initializing the newly created object’s attributes, such as setting state or validating inputs.\n",
        "Example:\n",
        "class Person:\n",
        "    def __init__(self, name, age=18):\n",
        "        self.name = name\n",
        "        self.age = age\n",
        "\n",
        "p1 = Person(\"John\")\n",
        "p2 = Person(\"Jane\", 25)\n",
        "\n",
        "print(p1.name, p1.age)  # John 18\n",
        "print(p2.name, p2.age)  # Jane 25\n",
        "\n",
        "10. What are class and static methods in python?\n",
        "-> a. Class Methods (@classmethod)\n",
        "Defined using the @classmethod decorator and take cls (the class) as the first parameter, not self.\n",
        "Can access and modify class-level data (e.g., class variables)\n",
        "Example:\n",
        "class Person:\n",
        "    species = \"Homo sapiens\"\n",
        "\n",
        "    @classmethod\n",
        "    def from_birth_year(cls, name, year):\n",
        "        age = 2025 - year\n",
        "        return cls(name, age)\n",
        "\n",
        "    def __init__(self, name, age):\n",
        "        self.name = name\n",
        "        self.age = age\n",
        "Static Methods (@staticmethod)\n",
        "Defined with the @staticmethod decorator; they take no special cls or self first argument.\n",
        "Cannot access or modify class or instance state; they act like plain functions scoped to the class namespace.\n",
        "Example:\n",
        "class MathUtil:\n",
        "    @staticmethod\n",
        "    def add(a, b):\n",
        "        return a + b\n",
        "\n",
        "    @staticmethod\n",
        "    def is_even(n):\n",
        "        return n % 2 == 0"
      ],
      "metadata": {
        "id": "tRX_oLmLwyGZ"
      }
    },
    {
      "cell_type": "markdown",
      "source": [
        "11. What is method overloading in Python?\n",
        "-> Method Overloading is the ability to define multiple methods with the same name but different arguments (types or number of parameters) in the same class.\n",
        "However, Python does not support traditional method overloading like Java or C++. Instead, Python handles this using default arguments, variable-length arguments, or manual checks inside the method.\n",
        "Example:\n",
        "class Example:\n",
        "    def show(self, a):\n",
        "        print(\"One argument:\", a)\n",
        "\n",
        "    def show(self, a, b):\n",
        "        print(\"Two arguments:\", a, b)\n",
        "\n",
        "obj = Example()\n",
        "obj.show(1)  # Error: missing 1 required positional argument\n",
        "\n",
        "12. What is method overriding in Python?\n",
        "-> Method Overriding is a feature in object-oriented programming where a child (derived) class provides a specific implementation of a method that is already defined in its parent (base) class.\n",
        "The method name and signature in the child class must be the same as in the parent class.\n",
        "This is a key part of runtime polymorphism.\n",
        "Example:\n",
        "class Animal:\n",
        "    def speak(self):\n",
        "        print(\"Animal speaks\")\n",
        "\n",
        "class Dog(Animal):\n",
        "    def speak(self):\n",
        "        print(\"Dog barks\")\n",
        "\n",
        "# Testing\n",
        "a = Animal()\n",
        "d = Dog()\n",
        "\n",
        "a.speak()  # Output: Animal speaks\n",
        "d.speak()  # Output: Dog barks\n",
        "\n",
        "13. What is a property decorator in Python?\n",
        "-> The @property decorator in Python is used to create getter methods in a class so that you can access a method like an attribute (without using parentheses).\n",
        "It allows you to:\n",
        "Access methods like attributes\n",
        "Encapsulate and control access to instance variables\n",
        "Example:\n",
        "class Person:\n",
        "    def __init__(self, name):\n",
        "        self._name = name\n",
        "\n",
        "    @property\n",
        "    def name(self):\n",
        "        print(\"Getting name...\")\n",
        "        return self._name\n",
        "\n",
        "    @name.setter\n",
        "    def name(self, value):\n",
        "        print(\"Setting name...\")\n",
        "        if isinstance(value, str):\n",
        "            self._name = value\n",
        "        else:\n",
        "            raise ValueError(\"Name must be a string\")\n",
        "\n",
        "    @name.deleter\n",
        "    def name(self):\n",
        "        print(\"Deleting name...\")\n",
        "        del self._name\n",
        "\n",
        "# Usage\n",
        "p = Person(\"Alice\")\n",
        "print(p.name)      # Getting name...\n",
        "p.name = \"Bob\"     # Setting name...\n",
        "del p.name         # Deleting name...\n",
        "\n",
        "14. Why is polymorphism important in OOP?\n",
        "-> a. Improves Code Reusability\n",
        "   b. Promotes Flexibility and Extensibility\n",
        "   c. Supports Clean and Maintainable Code\n",
        "   d. Enables Dynamic (Runtime) Method Binding\n",
        "   Example:\n",
        "class Shape:\n",
        "    def draw(self):\n",
        "        pass\n",
        "\n",
        "class Circle(Shape):\n",
        "    def draw(self):\n",
        "        print(\"Drawing Circle\")\n",
        "\n",
        "class Square(Shape):\n",
        "    def draw(self):\n",
        "        print(\"Drawing Square\")\n",
        "\n",
        "# Polymorphism in action\n",
        "for shape in [Circle(), Square()]:\n",
        "    shape.draw()\n",
        "\n",
        "15. What is an abstract class in Python?\n",
        "-> An abstract class in Python is a class that cannot be instantiated directly and is designed to be inherited by other classes. It often contains one or more abstract methods—methods that are declared but have no implementation in the base class.\n",
        "\n",
        "Abstract classes are defined using the abc module (Abstract Base Classes).\n",
        "Example:\n",
        "from abc import ABC, abstractmethod\n",
        "\n",
        "class Animal(ABC):\n",
        "    @abstractmethod\n",
        "    def sound(self):\n",
        "        pass  # No implementation here\n",
        "\n",
        "class Dog(Animal):\n",
        "    def sound(self):\n",
        "        return \"Bark\"\n",
        "\n",
        "class Cat(Animal):\n",
        "    def sound(self):\n",
        "        return \"Meow\"\n",
        "\n",
        "# animal = Animal()  # Error: Can't instantiate abstract class\n",
        "dog = Dog()\n",
        "print(dog.sound())  # Bark"
      ],
      "metadata": {
        "id": "EkQ42BK-wyYD"
      }
    },
    {
      "cell_type": "markdown",
      "source": [
        "16. What are the advantages of OOP?\n",
        "-> a.  Modularity\n",
        "Code is organized into classes and objects, making it self-contained.\n",
        "b. Reusability\n",
        "Once a class is created, it can be reused to create multiple objects.\n",
        "c. Encapsulation\n",
        "Data (attributes) and methods (functions) are bundled together in classes.\n",
        "d. Abstraction\n",
        "Allows you to focus on what an object does, instead of how it does it.\n",
        "e. Polymorphism\n",
        "Enables the same method name to behave differently based on the object.\n",
        "\n",
        "17. What is the difference between a class variable and an instance variable?\n",
        "-> a. Class Variables\n",
        "Defined directly within the class body (outside of any method).\n",
        "Belongs to the class itself and is shared across all instances.\n",
        "Example:\n",
        "class Dog:\n",
        "    kind = 'canine'        # class variable\n",
        "Access:\n",
        "Accessed via ClassName.var or instance.var.\n",
        "If modified via the class, change is seen by all instances:\n",
        "Dog.kind = 'mammal'  # affects all Dog instances\n",
        "\n",
        "Instance Variables\n",
        "Defined inside methods, typically in __init__, using the self prefix.\n",
        "Belongs to the individual instance, and each object maintains its own copy.\n",
        "Example:\n",
        "class Dog:\n",
        "    def __init__(self, name):\n",
        "        self.name = name    # instance variable\n",
        "\n",
        "Access:\n",
        "Always accessed via self.var.\n",
        "Unique to each instance; modifying one doesn’t affect others.\n",
        "d1 = Dog(\"Fido\"); d2 = Dog(\"Buddy\")\n",
        "d1.name = \"Spike\"\n",
        "print(d1.name, d2.name)  # Spike Buddy — separate values\n",
        "\n",
        "18. What is multiple inheritance in python?\n",
        "-> Multiple inheritance in Python means that a class can inherit from more than one parent class, allowing it to combine functionality from multiple sources.\n",
        "A class in Python can inherit features (attributes and methods) from multiple parent classes. For instance:\n",
        "Example:\n",
        "class Mammal:\n",
        "    def mammal_info(self):\n",
        "        print(\"Mammals can give direct birth.\")\n",
        "\n",
        "class WingedAnimal:\n",
        "    def winged_animal_info(self):\n",
        "        print(\"Winged animals can flap.\")\n",
        "\n",
        "class Bat(Mammal, WingedAnimal):\n",
        "    pass\n",
        "\n",
        "b1 = Bat()\n",
        "b1.mammal_info()         # Mammals can give direct birth.\n",
        "b1.winged_animal_info()  # Winged animals can flap.\n",
        "\n",
        "19. Explain the purpose of __str__ and __repr__ methods in python.\n",
        "-> a. __str__ method:\n",
        "In Python, the __str__ method defines the informal, user-friendly string representation of an object—what gets shown when you use print() or str() on an instance.\n",
        "__str__ returns a readable summary of the object, ideal for display or logging in a user-facing context.\n",
        "b. __repr__ method:\n",
        "__repr__\n",
        "Aimed at developers and debugging.\n",
        "Should produce an unambiguous string representation of the object.\n",
        "Ideally returns a valid Python expression that can be used with eval() to recreate the object\n",
        "Example:\n",
        "class Product:\n",
        "    def __init__(self, name, price):\n",
        "        self.name = name\n",
        "        self.price = price\n",
        "\n",
        "    def __repr__(self):\n",
        "        return f\"Product({self.name!r}, {self.price})\"\n",
        "\n",
        "    def __str__(self):\n",
        "        return f\"{self.name} (${self.price:.2f})\"\n",
        "\n",
        "20. What is the significance of super() function in python?\n",
        "-> The super() function in Python is a powerful and flexible tool that allows subclasses to interact with their parent (or superclass) methods—especially useful in method overriding, inheritance and when dealing with multiple inheritance.\n",
        "Example:\n",
        "class Rectangle:\n",
        "    def __init__(self, width, height):\n",
        "        self.width = width\n",
        "        self.height = height\n",
        "\n",
        "class Square(Rectangle):\n",
        "    def __init__(self, side):\n",
        "        super().__init__(side, side)\n"
      ],
      "metadata": {
        "id": "AopMo1mkwyrp"
      }
    },
    {
      "cell_type": "markdown",
      "source": [
        "21. What is the significance of the __del__ method in python?\n",
        "-> The __del__ method in Python—also known as the destructor or finalizer—is a special method that executes when an object is about to be destroyed (i.e., when its last reference is gone and it's garbage-collected). It allows you to perform cleanup tasks like releasing external resources.\n",
        "Example:\n",
        "class TempFile:\n",
        "    def __init__(self, filename):\n",
        "        self.filename = filename\n",
        "        open(filename, 'w').write('data')\n",
        "    def __del__(self):\n",
        "        os.remove(self.filename)\n",
        "\n",
        "22. What is the difference between @staticmethod and @classmethod in python?\n",
        "-> a. @staticmethod\n",
        "A method with no implicit first argument (neither self nor cls). It behaves like a regular function.It cannot access class or instance state.\n",
        "Example:\n",
        "class Point:\n",
        "    @staticmethod\n",
        "    def distance(x1, y1, x2, y2):\n",
        "        # purely computational\n",
        "        return sqrt((x1-x2)**2 + (y1-y2)**2)\n",
        "b. @classmethod\n",
        "A method where the class itself (cls) is implicitly passed as the first argument. It can interact with class-level data and is typically used for factory methods or operations affecting the class as a whole.\n",
        "Example:\n",
        "class DateConverter:\n",
        "    @classmethod\n",
        "    def from_timestamp(cls, ts):\n",
        "        return cls(datetime.fromtimestamp(ts).strftime(cls.date_format))\n",
        "\n",
        "23. How does polymorphism work in python with inheritance?\n",
        "-> Polymorphism allows methods to perform differently based on the actual object's class—even when called through a parent reference. This is often achieved through method overriding, where child classes provide their own implementation of a method inherited from a parent.\n",
        "Example:\n",
        "class Animal:\n",
        "    def speak(self):\n",
        "        raise NotImplementedError\n",
        "\n",
        "    def introduce(self):\n",
        "        return f\"My name is {self.name}, and I say {self.speak()}\"\n",
        "\n",
        "class Dog(Animal):\n",
        "    def __init__(self, name): self.name = name\n",
        "    def speak(self): return \"woof!\"\n",
        "\n",
        "class Cat(Animal):\n",
        "    def __init__(self, name): self.name = name\n",
        "    def speak(self): return \"meow!\"\n",
        "\n",
        "animals = [Dog(\"Buddy\"), Cat(\"Whiskers\")]\n",
        "for animal in animals:\n",
        "    print(animal.introduce())\n",
        "\n",
        "24. What is method chaining in python OOP?\n",
        "-> Method chaining is a design pattern where multiple methods are called in a single line of code using dot notation, syntax:\n",
        "obj.method1().method2().method3()\n",
        "Example:\n",
        "class Builder:\n",
        "    def __init__(self):\n",
        "        self.data = []\n",
        "\n",
        "    def add(self, value):\n",
        "        self.data.append(value)\n",
        "        return self\n",
        "\n",
        "    def remove(self, value):\n",
        "        if value in self.data:\n",
        "            self.data.remove(value)\n",
        "        return self\n",
        "\n",
        "    def show(self):\n",
        "        print(self.data)\n",
        "        return self\n",
        "\n",
        "Builder().add(1).add(2).remove(1).show()  # Output: [2]\n",
        "\n",
        "25. What is the purpose of __call__ method in python?\n",
        "-> In Python, the __call__ method is a special—or “dunder”—method that allows instances of a class to be invoked like regular functions.\n",
        "When you define __call__ in a class, calling the instance (e.g., instance(args)) triggers the execution of instance.__call__(args).\n",
        "Example:\n",
        "class Counter:\n",
        "    def __init__(self):\n",
        "        self.count = 0\n",
        "    def __call__(self):\n",
        "        self.count += 1\n",
        "        return self.count\n",
        "\n",
        "c = Counter()\n",
        "print(c(), c(), c())  # Outputs: 1, 2, 3"
      ],
      "metadata": {
        "id": "rNxz0pGlwzA-"
      }
    },
    {
      "cell_type": "code",
      "source": [
        "# Create a parent class Animal with a method speak() that prints a generic message. Create a child class Dog that overrides the speak() method to print \"Bark!\"\n",
        "class Animal:\n",
        "  def speak():\n",
        "    print(\"Animal sound\")\n",
        "\n",
        "class Dog(Animal):\n",
        "  def speak(self):\n",
        "    print(\"Bark!\")\n",
        "\n",
        "dog=Dog()\n",
        "dog.speak()\n"
      ],
      "metadata": {
        "colab": {
          "base_uri": "https://localhost:8080/"
        },
        "id": "seZNEQmGwzld",
        "outputId": "b5534695-ace2-40b1-8ab5-7bc713285f9f"
      },
      "execution_count": 4,
      "outputs": [
        {
          "output_type": "stream",
          "name": "stdout",
          "text": [
            "Bark!\n"
          ]
        }
      ]
    },
    {
      "cell_type": "code",
      "source": [
        "#Write a program to create an abstract class Shape with a method area(). Derive classes Circle and Rectangle from it and implement the area() method in both.\n",
        "from abc import abstractmethod\n",
        "class Shape:\n",
        "  @abstractmethod\n",
        "  def area(self):\n",
        "    pass\n",
        "class Circle(Shape):\n",
        "  def __init__(self,radius):\n",
        "    self.radius=radius\n",
        "  def area(self):\n",
        "    return 3.14*self.radius**2\n",
        "circle=Circle(5)\n",
        "print(circle.area())\n",
        "class Rectangle(Shape):\n",
        "  def __init__(self,length,breadth):\n",
        "    self.length=length\n",
        "    self.breadth=breadth\n",
        "  def area(self):\n",
        "    return self.length*self.breadth\n",
        "rectangle=Rectangle(4,5)\n",
        "print(rectangle.area())"
      ],
      "metadata": {
        "colab": {
          "base_uri": "https://localhost:8080/"
        },
        "id": "i2NAETauxoCO",
        "outputId": "7bd82ac6-98e8-4eba-d1fc-2a99d505c8ab"
      },
      "execution_count": 5,
      "outputs": [
        {
          "output_type": "stream",
          "name": "stdout",
          "text": [
            "78.5\n",
            "20\n"
          ]
        }
      ]
    },
    {
      "cell_type": "code",
      "source": [
        "# Implement a multi-level inheritance scenario where a class Vehicle has an attribute type. Derive a class Car and further derive a class ElectricCar that adds a battery attribute.\n",
        "class Vehicle:\n",
        "  def __init__(self,type):\n",
        "    self.type=type\n",
        "  def start(self):\n",
        "    print(f\"Starting {self.type} vehicle\")\n",
        "  def stop(self):\n",
        "    print(f\"Stopping {self.type} vehicle\")\n",
        "\n",
        "class Car(Vehicle):\n",
        "  def __init__(self,make,model):\n",
        "    super().__init__(\"car\")\n",
        "    self.make=make\n",
        "    self.model=model\n",
        "  def start(self):\n",
        "    print(f\"Starting {self.make} {self.model}\")\n",
        "\n",
        "class ElectricCar(Car):\n",
        "  def __init__(self,make,model,battery_capacity):\n",
        "    super().__init__(make,model)\n",
        "    self.battery_capacity=battery_capacity\n",
        "  def start(self):\n",
        "    print(f\"Starting {self.make} {self.model} with {self.battery_capacity} kWh battery\")\n",
        "\n",
        "electric_car=ElectricCar(\"Tesla\",\"Model S\",75)\n",
        "electric_car.start()"
      ],
      "metadata": {
        "colab": {
          "base_uri": "https://localhost:8080/"
        },
        "id": "36GO1uen6AQ3",
        "outputId": "a1c1ffa4-a287-4af5-e782-52ae164b1c47"
      },
      "execution_count": 6,
      "outputs": [
        {
          "output_type": "stream",
          "name": "stdout",
          "text": [
            "Starting Tesla Model S with 75 kWh battery\n"
          ]
        }
      ]
    },
    {
      "cell_type": "code",
      "source": [
        "#Demonstrate polymorphism by creating a base class Bird with a method fly(). Create two derived classes Sparrow and Penguin that override the fly() method.\n",
        "class Bird:\n",
        "  def fly(self):\n",
        "    print(\"Birds can fly\")\n",
        "\n",
        "class Sparrow:\n",
        "  def fly(self):\n",
        "    print(\"Sparrows can fly\")\n",
        "\n",
        "class Penguin:\n",
        "  def fly(self):\n",
        "    print(\"Penguins cannot fly\")\n",
        "\n",
        "def show_flight(bird):\n",
        "    bird.fly()  # Calls the version of fly() based on the object type\n",
        "\n",
        "# Creating objects\n",
        "sparrow = Sparrow()\n",
        "penguin = Penguin()\n",
        "\n",
        "# Demonstrating polymorphism\n",
        "show_flight(sparrow)\n",
        "show_flight(penguin)"
      ],
      "metadata": {
        "colab": {
          "base_uri": "https://localhost:8080/"
        },
        "id": "W6nHdQUj8n7k",
        "outputId": "313b8bac-85fb-420e-9363-f7c1cd1669fe"
      },
      "execution_count": 7,
      "outputs": [
        {
          "output_type": "stream",
          "name": "stdout",
          "text": [
            "Sparrows can fly\n",
            "Penguins cannot fly\n"
          ]
        }
      ]
    },
    {
      "cell_type": "code",
      "source": [
        "#Write a program to demonstrate encapsulation by creating a class BankAccount with private attributes balance and methods to deposit, withdraw, and check balance\n",
        "class BankAccount:\n",
        "  def __init__(self,balance):\n",
        "    self.balance=balance\n",
        "  def deposit(self,amount):\n",
        "    self.balance+=amount\n",
        "  def withdraw(self,amount):\n",
        "    if amount<=self.balance:\n",
        "      self.balance-=amount\n",
        "    else:\n",
        "      print(\"Insufficient balance\")\n",
        "  def get_balance(self):\n",
        "    return self.balance\n",
        "\n",
        "account=BankAccount(1000)\n",
        "account.deposit(500)\n",
        "account.withdraw(200)\n",
        "print(account.get_balance())"
      ],
      "metadata": {
        "colab": {
          "base_uri": "https://localhost:8080/"
        },
        "id": "oEsVqPQU9b7V",
        "outputId": "966a5b3c-7e2a-4e54-fbdb-9a69b3bbdc3a"
      },
      "execution_count": 8,
      "outputs": [
        {
          "output_type": "stream",
          "name": "stdout",
          "text": [
            "1300\n"
          ]
        }
      ]
    },
    {
      "cell_type": "code",
      "source": [
        "# Demonstrate runtime polymorphism using a method play() in a base class Instrument. Derive classes Guitar and Piano that implement their own version of play().\n",
        "class Instrument:\n",
        "  def play(self):\n",
        "    print(\"Playing an instrument\")\n",
        "class Guitar:\n",
        "  def play(self):\n",
        "    print(\"Strumming the guitar\")\n",
        "class Piano:\n",
        "  def play(self):\n",
        "    print(\"Playing the piano\")\n",
        "\n",
        "def start_playing(instrument):\n",
        "    instrument.play()  # Calls the method based on the object's type\n",
        "\n",
        "# Creating objects\n",
        "guitar = Guitar()\n",
        "piano = Piano()\n",
        "\n",
        "# Demonstrating polymorphism\n",
        "start_playing(guitar)  # Guitar's play()\n",
        "start_playing(piano)"
      ],
      "metadata": {
        "colab": {
          "base_uri": "https://localhost:8080/"
        },
        "id": "X0BCkheG9b-J",
        "outputId": "29aaca46-6622-49fe-9a8f-b8ed7d27fde1"
      },
      "execution_count": 9,
      "outputs": [
        {
          "output_type": "stream",
          "name": "stdout",
          "text": [
            "Strumming the guitar\n",
            "Playing the piano\n"
          ]
        }
      ]
    },
    {
      "cell_type": "code",
      "source": [
        "# Create a class MathOperations with a class method add_numbers() to add two numbers and a staticmethod subtract_numbers() to subtract two numbers.\n",
        "class MathOperations:\n",
        "  @classmethod\n",
        "  def add_numbers(cls,a,b):\n",
        "    return a+b\n",
        "  @staticmethod\n",
        "  def subtract_numbers(a,b):\n",
        "    return a-b\n",
        "print(MathOperations.add_numbers(5,3))\n",
        "print(MathOperations.subtract_numbers(5,3))"
      ],
      "metadata": {
        "colab": {
          "base_uri": "https://localhost:8080/"
        },
        "id": "eRDxj_vBDVbn",
        "outputId": "b8a4407a-c338-4514-a50d-d9dbbd6dac62"
      },
      "execution_count": 10,
      "outputs": [
        {
          "output_type": "stream",
          "name": "stdout",
          "text": [
            "8\n",
            "2\n"
          ]
        }
      ]
    },
    {
      "cell_type": "code",
      "source": [
        "#Implement a class Person with a class method to count the total number of persons created.\n",
        "class Person:\n",
        "  count=0\n",
        "  def __init__(self,name):\n",
        "    self.name=name\n",
        "    Person.count+=1\n",
        "\n",
        "  @classmethod\n",
        "  def total_persons(cls):\n",
        "    return cls.count\n",
        "\n",
        "p1=Person(\"Alice\")\n",
        "p2=Person(\"Bob\")\n",
        "p3=Person(\"Charlie\")\n",
        "print(\"Total persons created:\", Person.total_persons())"
      ],
      "metadata": {
        "colab": {
          "base_uri": "https://localhost:8080/"
        },
        "id": "jEKG6W95DVn3",
        "outputId": "00f81d3b-b486-4430-d39a-0fff35bdf837"
      },
      "execution_count": 11,
      "outputs": [
        {
          "output_type": "stream",
          "name": "stdout",
          "text": [
            "Total persons created: 3\n"
          ]
        }
      ]
    },
    {
      "cell_type": "code",
      "source": [
        "# Write a class Fraction with attributes numerator and denominator. Override the str method to display the fraction as \"numerator/denominator\".\n",
        "class Fraction:\n",
        "    def __init__(self, numerator, denominator):\n",
        "        self.numerator = numerator\n",
        "        self.denominator = denominator\n",
        "\n",
        "    def __str__(self):\n",
        "        return f\"{self.numerator}/{self.denominator}\"\n",
        "f = Fraction(3, 4)\n",
        "print(f)\n"
      ],
      "metadata": {
        "colab": {
          "base_uri": "https://localhost:8080/"
        },
        "id": "PPnSH1h0ZaDr",
        "outputId": "2a1ae995-fe8f-4d99-9f20-c5586746351e"
      },
      "execution_count": 12,
      "outputs": [
        {
          "output_type": "stream",
          "name": "stdout",
          "text": [
            "3/4\n"
          ]
        }
      ]
    },
    {
      "cell_type": "code",
      "source": [
        "#Demonstrate operator overloading by creating a class Vector and overriding the add method to add two vectors.\n",
        "class Vector:\n",
        "    def __init__(self, x, y):\n",
        "        self.x = x\n",
        "        self.y = y\n",
        "\n",
        "    def __add__(self, other):\n",
        "        if not isinstance(other, Vector):\n",
        "            return NotImplemented\n",
        "        return Vector(self.x + other.x, self.y + other.y)\n",
        "\n",
        "    def __repr__(self):\n",
        "        return f\"Vector({self.x}, {self.y})\"\n",
        "\n",
        "v1=Vector(1,2)\n",
        "v2=Vector(3,4)\n",
        "v3=v1+v2\n",
        "print(v3)"
      ],
      "metadata": {
        "colab": {
          "base_uri": "https://localhost:8080/"
        },
        "id": "y_dGIrwMZyEx",
        "outputId": "613898dd-52b3-4f09-9105-e9852ef2931e"
      },
      "execution_count": 13,
      "outputs": [
        {
          "output_type": "stream",
          "name": "stdout",
          "text": [
            "Vector(4, 6)\n"
          ]
        }
      ]
    },
    {
      "cell_type": "code",
      "source": [
        "#Create a class Person with attributes name and age. Add a method greet() that prints \"Hello, my name is {name} and I am {age} years old.\"\n",
        "class Person:\n",
        "  def __init__(self,name,age):\n",
        "    self.name=name\n",
        "    self.age=age\n",
        "  def __str__(self):\n",
        "    return f\"{self.name} is {self.age} years old.\"\n",
        "p=Person(\"Alice\",25)\n",
        "print(p)"
      ],
      "metadata": {
        "colab": {
          "base_uri": "https://localhost:8080/"
        },
        "id": "6VN93XHTbNSp",
        "outputId": "3c0835c5-5627-4b30-a3f4-f2fef39977dd"
      },
      "execution_count": 14,
      "outputs": [
        {
          "output_type": "stream",
          "name": "stdout",
          "text": [
            "Alice is 25 years old.\n"
          ]
        }
      ]
    },
    {
      "cell_type": "code",
      "source": [
        "# Implement a class Student with attributes name and grades. Create a method average_grade() to compute the average of the grades.\n",
        "class Student:\n",
        "    def __init__(self, name, grades):\n",
        "        self.name = name\n",
        "        self.grades = list(grades)\n",
        "\n",
        "    def average_grade(self):\n",
        "        if not self.grades:\n",
        "            return None\n",
        "        return sum(self.grades) / len(self.grades)\n",
        "s = Student(\"Alice\", [85, 92, 78])\n",
        "print(s.average_grade())"
      ],
      "metadata": {
        "colab": {
          "base_uri": "https://localhost:8080/"
        },
        "id": "A1esiYfudBRR",
        "outputId": "8c8a7b2a-8895-4bd2-d9ee-071519e06dff"
      },
      "execution_count": 15,
      "outputs": [
        {
          "output_type": "stream",
          "name": "stdout",
          "text": [
            "85.0\n"
          ]
        }
      ]
    },
    {
      "cell_type": "code",
      "source": [
        "#Create a class Rectangle with methods set_dimensions() to set the dimensions and area() to calculate the area.\n",
        "class Rectangle:\n",
        "    def __init__(self):\n",
        "        self.length = 0\n",
        "        self.width = 0\n",
        "\n",
        "    def set_dimensions(self, length, width):\n",
        "        \"\"\"Set the rectangle’s length and width.\"\"\"\n",
        "        self.length = length\n",
        "        self.width = width\n",
        "\n",
        "    def area(self):\n",
        "        \"\"\"Return the area (length × width).\"\"\"\n",
        "        return self.length * self.width\n",
        "rect = Rectangle()\n",
        "rect.set_dimensions(5, 3)\n",
        "print(\"Area:\", rect.area())"
      ],
      "metadata": {
        "colab": {
          "base_uri": "https://localhost:8080/"
        },
        "id": "YL1iTHrxdu5Z",
        "outputId": "ffc8e204-a0e9-47fe-9e6d-084369071888"
      },
      "execution_count": 16,
      "outputs": [
        {
          "output_type": "stream",
          "name": "stdout",
          "text": [
            "Area: 15\n"
          ]
        }
      ]
    },
    {
      "cell_type": "code",
      "source": [
        "# Create a class Employee with a method calculate_salary() that computes the salary based on hours worked and hourly rate. Create a derived class Manager that adds a bonus to the salary\n",
        "class Employee:\n",
        "  def __init__(self,name,hours_worked,hourly_rate):\n",
        "      self.name=name\n",
        "      self.hours_worked=hours_worked\n",
        "      self.hourly_rate=hourly_rate\n",
        "  def calculate_salary(self):\n",
        "      return self.hours_worked*self.hourly_rate\n",
        "class Manager(Employee):\n",
        "  def __init__(self,name,hours_worked,hourly_rate,bonus):\n",
        "    super().__init__(name,hours_worked,hourly_rate)\n",
        "    self.bonus=bonus\n",
        "  def calculate_salary(self):\n",
        "    return super().calculate_salary()+self.bonus\n",
        "mgr=Manager(\"Alice\",40,50,1000)\n",
        "print(mgr.calculate_salary())"
      ],
      "metadata": {
        "id": "tVcEsJukeiwI",
        "colab": {
          "base_uri": "https://localhost:8080/"
        },
        "outputId": "077c0ed1-fb89-4ce9-8303-2e55c92f69e0"
      },
      "execution_count": 17,
      "outputs": [
        {
          "output_type": "stream",
          "name": "stdout",
          "text": [
            "3000\n"
          ]
        }
      ]
    },
    {
      "cell_type": "code",
      "source": [
        "#Create a class Product with attributes name, price, and quantity. Implement a method total_price() that calculates the total price of the product.\n",
        "class Product:\n",
        "  def __init__(self,name,price,quantity):\n",
        "    self.name=name\n",
        "    self.price=price\n",
        "    self.quantity=quantity\n",
        "  def total_price(self):\n",
        "    return self.price*self.quantity\n",
        "product=Product(\"Laptop\",500,3)\n",
        "print(product.total_price())"
      ],
      "metadata": {
        "colab": {
          "base_uri": "https://localhost:8080/"
        },
        "id": "klo8kbW7PRwD",
        "outputId": "27ff761d-2a36-44ed-8dd7-ed7a23fecae4"
      },
      "execution_count": null,
      "outputs": [
        {
          "output_type": "stream",
          "name": "stdout",
          "text": [
            "1500\n"
          ]
        }
      ]
    },
    {
      "cell_type": "code",
      "source": [
        "#Create a class Animal with an abstract method sound(). Create two derived classes Cow and Sheep that implement the sound() method.\n",
        "from abc import abstractmethod\n",
        "class Animal:\n",
        "  @abstractmethod\n",
        "  def sound(self):\n",
        "    pass\n",
        "class Cow(Animal):\n",
        "  def sound(self):\n",
        "    return \"Moo!!\"\n",
        "class Sheep(Animal):\n",
        "  def sound(self):\n",
        "    return \"Baaa!!\"\n",
        "cow=Cow()\n",
        "sheep=Sheep()\n",
        "print(cow.sound())\n",
        "print(sheep.sound())"
      ],
      "metadata": {
        "colab": {
          "base_uri": "https://localhost:8080/"
        },
        "id": "UXFW7O68QEs9",
        "outputId": "4d5bb13e-31f4-4c70-a27f-9060d4ac8b21"
      },
      "execution_count": 18,
      "outputs": [
        {
          "output_type": "stream",
          "name": "stdout",
          "text": [
            "Moo!!\n",
            "Baaa!!\n"
          ]
        }
      ]
    },
    {
      "cell_type": "code",
      "source": [
        "#Create a class Book with attributes title, author, and year_published. Add a method get_book_info() that returns a formatted string with the book's details.\n",
        "class Book:\n",
        "  def __init__(self,title,author,year_published):\n",
        "    self.title=title\n",
        "    self.author=author\n",
        "    self.year_published=year_published\n",
        "  def get_book_info(self):\n",
        "    return f\"{self.title} by {self.author} ({self.year_published})\"\n",
        "book=Book(\"The Great Gatsby\",\"F. Scott Fitzgerald\",1925)\n",
        "print(book.get_book_info())"
      ],
      "metadata": {
        "colab": {
          "base_uri": "https://localhost:8080/"
        },
        "id": "EXG6KrDEYuNu",
        "outputId": "4b6c4f19-0a3a-4103-851d-6fc71bc333e4"
      },
      "execution_count": 19,
      "outputs": [
        {
          "output_type": "stream",
          "name": "stdout",
          "text": [
            "The Great Gatsby by F. Scott Fitzgerald (1925)\n"
          ]
        }
      ]
    },
    {
      "cell_type": "code",
      "source": [
        "# Create a class House with attributes address and price. Create a derived class Mansion that adds an attribute number_of_rooms.\n",
        "class House:\n",
        "  def __init__(self,address,price):\n",
        "    self.address=address\n",
        "    self.price=price\n",
        "class Mansion(House):\n",
        "  def __init__(self,address,price,number_of_rooms):\n",
        "    super().__init__(address,price)\n",
        "    self.number_of_rooms=number_of_rooms\n",
        "  def get_house_info(self):\n",
        "    return f\"Mansion at {self.address} for ${self.price} with {self.number_of_rooms} rooms\"\n",
        "mansion=Mansion(\"123 Main St\",250000,5)\n",
        "print(mansion.get_house_info())"
      ],
      "metadata": {
        "colab": {
          "base_uri": "https://localhost:8080/"
        },
        "id": "Me_DKH9zbB9O",
        "outputId": "3a2806c5-80cd-4fe3-f477-4bbc9a76590c"
      },
      "execution_count": 20,
      "outputs": [
        {
          "output_type": "stream",
          "name": "stdout",
          "text": [
            "Mansion at 123 Main St for $250000 with 5 rooms\n"
          ]
        }
      ]
    }
  ]
}